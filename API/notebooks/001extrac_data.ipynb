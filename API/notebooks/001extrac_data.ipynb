{
 "cells": [
  {
   "cell_type": "markdown",
   "id": "c00fed2a",
   "metadata": {},
   "source": [
    "## Objetivo general\n",
    "Este notebook tiene como objetivo principal la extracción automatizada de datos geoespaciales desde la plataforma OpenStreetMap (OSM) utilizando la API de Overpass. Se enfoca en recolectar información clave sobre infraestructura urbana en diversas ciudades de los Estados Unidos, incluyendo:\n",
    "\n",
    "-Escuelas (school)\n",
    "-Hospitales (hospital)\n",
    "-Semáforos (traffic_signals)\n",
    "-Cruces peatonales (crossing)"
   ]
  },
  {
   "cell_type": "markdown",
   "id": "11b3951f",
   "metadata": {},
   "source": [
    "## Importación de librerías"
   ]
  },
  {
   "cell_type": "code",
   "execution_count": 1,
   "id": "052365a2",
   "metadata": {},
   "outputs": [],
   "source": [
    "import overpy\n",
    "import pandas as pd\n",
    "from tqdm import tqdm\n",
    "import time\n",
    "import os \n",
    "import glob\n",
    "import ast"
   ]
  },
  {
   "cell_type": "markdown",
   "id": "15d4bf37",
   "metadata": {},
   "source": [
    " ## Definición de ciudades y sus bounding boxes\n",
    " Se define un diccionario cities con 20 ciudades y sus respectivas bounding boxes (latitud mínima, longitud mínima, latitud máxima, longitud máxima).\n",
    "\n",
    "Estas coordenadas geográficas delimitan las áreas donde se realizará la búsqueda de datos en OSM."
   ]
  },
  {
   "cell_type": "code",
   "execution_count": 2,
   "id": "fb5817eb",
   "metadata": {},
   "outputs": [],
   "source": [
    "cities = {\n",
    "    \"Miami\": [25.70, -80.30, 25.90, -80.10],\n",
    "    \"Houston\": [29.60, -95.60, 30.10, -95.00],\n",
    "    \"Los_Angeles\": [33.90, -118.60, 34.20, -118.10],\n",
    "    \"Charlotte\": [35.10, -80.95, 35.35, -80.70],\n",
    "    \"Dallas\": [32.65, -97.00, 32.90, -96.65],\n",
    "    \"Orlando\": [28.40, -81.50, 28.65, -81.20],\n",
    "    \"Austin\": [30.10, -97.90, 30.40, -97.60],\n",
    "    \"Raleigh\": [35.70, -78.80, 36.00, -78.50],\n",
    "    \"Nashville\": [36.00, -86.90, 36.25, -86.60],\n",
    "    \"Baton_Rouge\": [30.35, -91.25, 30.55, -91.05],\n",
    "    \"Atlanta\": [33.65, -84.55, 33.90, -84.30],\n",
    "    \"Sacramento\": [38.45, -121.60, 38.70, -121.25],\n",
    "    \"Phoenix\": [33.35, -112.20, 33.60, -111.90],\n",
    "    \"San_Diego\": [32.70, -117.30, 32.90, -117.00],\n",
    "    \"Minneapolis\": [44.90, -93.35, 45.05, -93.20],\n",
    "    \"Richmond\": [37.45, -77.55, 37.60, -77.40],\n",
    "    \"Oklahoma_City\": [35.35, -97.80, 35.60, -97.25],\n",
    "    \"Jacksonville\": [30.10, -81.90, 30.45, -81.50],\n",
    "    \"Tucson\": [32.10, -111.10, 32.30, -110.85],\n",
    "    \"Columbia\": [33.90, -81.15, 34.10, -80.85],  # Asumiendo Columbia, SC\n",
    "}\n"
   ]
  },
  {
   "cell_type": "markdown",
   "id": "75d288c2",
   "metadata": {},
   "source": [
    "## Función para generar consulta Overpass"
   ]
  },
  {
   "cell_type": "code",
   "execution_count": null,
   "id": "2478fc05",
   "metadata": {},
   "outputs": [],
   "source": [
    "# Inicializar la API de Overpass\n",
    "api = overpy.Overpass()\n",
    "\n",
    "# Función para crear la consulta\n",
    "def create_query(minLat, minLon, maxLat, maxLon):\n",
    "    return f\"\"\"\n",
    "    [out:json][timeout:25];\n",
    "    (\n",
    "        node[\"amenity\"=\"school\"]({minLat},{minLon},{maxLat},{maxLon});\n",
    "        node[\"amenity\"=\"hospital\"]({minLat},{minLon},{maxLat},{maxLon});\n",
    "        node[\"highway\"=\"traffic_signals\"]({minLat},{minLon},{maxLat},{maxLon});\n",
    "        node[\"highway\"=\"crossing\"]({minLat},{minLon},{maxLat},{maxLon});\n",
    "    );\n",
    "    out body;\n",
    "    \"\"\"\n"
   ]
  },
  {
   "cell_type": "markdown",
   "id": "0c3c05dd",
   "metadata": {},
   "source": [
    "##  Extracción y guardado de datos\n",
    "Función process_city_data():\n",
    "\n",
    "-Ejecuta la consulta Overpass para cada ciudad.\n",
    "-Procesa los nodos obtenidos en un DataFrame.\n",
    "-Guarda el archivo .csv con los datos de esa ciudad.\n",
    "\n",
    "Se recorre cada ciudad definida anteriormente y se extraen sus datos en un proceso automatizado.\n"
   ]
  },
  {
   "cell_type": "code",
   "execution_count": null,
   "id": "f81a72e7",
   "metadata": {},
   "outputs": [],
   "source": [
    "\n",
    "# Función para obtener y procesar los datos de una ciudad\n",
    "def process_city_data(city, bbox):\n",
    "    minLat, minLon, maxLat, maxLon = bbox\n",
    "    print(f\"\\nQuerying {city} with bbox: {minLat}, {minLon}, {maxLat}, {maxLon}...\")\n",
    "\n",
    "    # Crear la consulta\n",
    "    query = create_query(minLat, minLon, maxLat, maxLon)\n",
    "\n",
    "    try:\n",
    "        # Ejecutar la consulta y obtener los resultados\n",
    "        result = api.query(query)\n",
    "\n",
    "        # Procesar los nodos de la respuesta\n",
    "        data = [\n",
    "            {\n",
    "                \"id\": node.id,\n",
    "                \"category\": node.tags.get(\"amenity\", node.tags.get(\"highway\", \"N/A\")),\n",
    "                \"latitude\": node.lat,\n",
    "                \"longitude\": node.lon,\n",
    "                \"tags\": str(node.tags)\n",
    "            }\n",
    "            for node in tqdm(result.nodes, desc=f\"Processing nodes for {city}\", leave=False)\n",
    "        ]\n",
    "\n",
    "        # Crear un DataFrame de pandas\n",
    "        df = pd.DataFrame(data)\n",
    "\n",
    "        # Definir la ruta del archivo CSV\n",
    "        directory = r\"C:\\Users\\ASUS\\Desktop\\proyecto03\\data\"\n",
    "        if not os.path.exists(directory):\n",
    "            os.makedirs(directory)\n",
    "        csv_filename = os.path.join(directory, f\"{city.lower()}_osm_info.csv\")\n",
    "        \n",
    "        # Guardar el DataFrame en un archivo CSV\n",
    "        df.to_csv(csv_filename, index=False)\n",
    "        print(f\"{city}: saved to '{csv_filename}'\")\n",
    "\n",
    "        # Pausa entre consultas para evitar sobrecargar el servidor\n",
    "        time.sleep(5)\n",
    "    \n",
    "    except Exception as e:\n",
    "        print(f\"Error querying {city}: {e}\")\n",
    "\n",
    "# Iterar sobre las ciudades y procesar los datos\n",
    "for city, bbox in cities.items():\n",
    "    process_city_data(city, bbox)"
   ]
  },
  {
   "cell_type": "markdown",
   "id": "f793098b",
   "metadata": {},
   "source": [
    "## Conclusiones\n",
    "El notebook realiza una extracción geoespacial completa y automatizada de elementos urbanos clave desde OpenStreetMap.\n",
    "\n",
    "La estructura modular permite reutilizar el código fácilmente para otras ciudades o elementos.\n",
    "\n",
    "Cada ciudad genera su propio archivo CSV, facilitando el análisis posterior y la trazabilidad de los datos.\n",
    "\n",
    "Se incorporan buenas prácticas como el manejo de errores y las pausas entre consultas.\n",
    "\n"
   ]
  }
 ],
 "metadata": {
  "kernelspec": {
   "display_name": "Python 3",
   "language": "python",
   "name": "python3"
  },
  "language_info": {
   "codemirror_mode": {
    "name": "ipython",
    "version": 3
   },
   "file_extension": ".py",
   "mimetype": "text/x-python",
   "name": "python",
   "nbconvert_exporter": "python",
   "pygments_lexer": "ipython3",
   "version": "3.12.6"
  }
 },
 "nbformat": 4,
 "nbformat_minor": 5
}
